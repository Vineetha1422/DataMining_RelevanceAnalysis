{
  "cells": [
    {
      "cell_type": "code",
      "execution_count": null,
      "id": "416a58af-4a08-4eff-b1fe-ebe03e62431f",
      "metadata": {
        "id": "416a58af-4a08-4eff-b1fe-ebe03e62431f"
      },
      "outputs": [],
      "source": [
        "#Installations\n",
        "\n",
        "#!pip install emoji"
      ]
    },
    {
      "cell_type": "code",
      "execution_count": null,
      "id": "80e56f07-e0fe-4303-96f8-0f2e3126919f",
      "metadata": {
        "id": "80e56f07-e0fe-4303-96f8-0f2e3126919f"
      },
      "outputs": [],
      "source": [
        "#Environment details"
      ]
    },
    {
      "cell_type": "code",
      "execution_count": null,
      "id": "c969c056-ccbb-470a-82f8-7f23a231fea4",
      "metadata": {
        "id": "c969c056-ccbb-470a-82f8-7f23a231fea4"
      },
      "outputs": [],
      "source": [
        "#Imports\n",
        "\n",
        "import pandas as pd\n",
        "import numpy as np\n",
        "import matplotlib.pyplot as plt\n",
        "import os\n",
        "import re\n",
        "import emoji\n",
        "import random\n",
        "import seaborn as sns\n",
        "from sklearn.preprocessing import LabelEncoder\n",
        "from sklearn.feature_extraction.text import TfidfVectorizer\n",
        "from sklearn.metrics.pairwise import cosine_similarity\n",
        "from sklearn.semi_supervised import LabelPropagation\n",
        "from sklearn.feature_extraction.text import CountVectorizer\n",
        "from nltk.sentiment.vader import SentimentIntensityAnalyzer\n",
        "from gensim.models import Word2Vec, Doc2Vec\n",
        "from gensim.models.doc2vec import TaggedDocument\n",
        "from sklearn.cluster import KMeans\n",
        "from scipy.stats import mode\n",
        "from sklearn.model_selection import train_test_split\n",
        "import nltk\n",
        "\n",
        "import warnings\n",
        "warnings.filterwarnings(\"ignore\")"
      ]
    },
    {
      "cell_type": "code",
      "execution_count": null,
      "id": "014f8b79-a685-4bd8-8201-dddf82040b2d",
      "metadata": {
        "id": "014f8b79-a685-4bd8-8201-dddf82040b2d",
        "outputId": "5a4d2426-38c3-49a0-ab5a-c35340c10873"
      },
      "outputs": [
        {
          "data": {
            "text/html": [
              "<div>\n",
              "<style scoped>\n",
              "    .dataframe tbody tr th:only-of-type {\n",
              "        vertical-align: middle;\n",
              "    }\n",
              "\n",
              "    .dataframe tbody tr th {\n",
              "        vertical-align: top;\n",
              "    }\n",
              "\n",
              "    .dataframe thead th {\n",
              "        text-align: right;\n",
              "    }\n",
              "</style>\n",
              "<table border=\"1\" class=\"dataframe\">\n",
              "  <thead>\n",
              "    <tr style=\"text-align: right;\">\n",
              "      <th></th>\n",
              "      <th>question</th>\n",
              "      <th>reply</th>\n",
              "      <th>replies_count</th>\n",
              "      <th>up_counts</th>\n",
              "      <th>relevance_rating</th>\n",
              "    </tr>\n",
              "  </thead>\n",
              "  <tbody>\n",
              "    <tr>\n",
              "      <th>0</th>\n",
              "      <td>What is THE best question to ask on a job inte...</td>\n",
              "      <td>One that has always gone over well for me:\\n\\n...</td>\n",
              "      <td>7</td>\n",
              "      <td>1047</td>\n",
              "      <td>9.0</td>\n",
              "    </tr>\n",
              "    <tr>\n",
              "      <th>1</th>\n",
              "      <td>What is THE best question to ask on a job inte...</td>\n",
              "      <td>When you were interviewing here, what would yo...</td>\n",
              "      <td>9</td>\n",
              "      <td>2625</td>\n",
              "      <td>6.0</td>\n",
              "    </tr>\n",
              "    <tr>\n",
              "      <th>2</th>\n",
              "      <td>What is THE best question to ask on a job inte...</td>\n",
              "      <td>Ask them what is the biggest problem you can s...</td>\n",
              "      <td>9</td>\n",
              "      <td>1669</td>\n",
              "      <td>7.0</td>\n",
              "    </tr>\n",
              "    <tr>\n",
              "      <th>3</th>\n",
              "      <td>What is THE best question to ask on a job inte...</td>\n",
              "      <td>A question that landed me a job once was:\\n“If...</td>\n",
              "      <td>6</td>\n",
              "      <td>712</td>\n",
              "      <td>8.0</td>\n",
              "    </tr>\n",
              "    <tr>\n",
              "      <th>4</th>\n",
              "      <td>What is THE best question to ask on a job inte...</td>\n",
              "      <td>I like to ask:\\n\\n1. How is success measured i...</td>\n",
              "      <td>6</td>\n",
              "      <td>593</td>\n",
              "      <td>7.0</td>\n",
              "    </tr>\n",
              "  </tbody>\n",
              "</table>\n",
              "</div>"
            ],
            "text/plain": [
              "                                            question  \\\n",
              "0  What is THE best question to ask on a job inte...   \n",
              "1  What is THE best question to ask on a job inte...   \n",
              "2  What is THE best question to ask on a job inte...   \n",
              "3  What is THE best question to ask on a job inte...   \n",
              "4  What is THE best question to ask on a job inte...   \n",
              "\n",
              "                                               reply  replies_count  \\\n",
              "0  One that has always gone over well for me:\\n\\n...              7   \n",
              "1  When you were interviewing here, what would yo...              9   \n",
              "2  Ask them what is the biggest problem you can s...              9   \n",
              "3  A question that landed me a job once was:\\n“If...              6   \n",
              "4  I like to ask:\\n\\n1. How is success measured i...              6   \n",
              "\n",
              "   up_counts  relevance_rating  \n",
              "0       1047               9.0  \n",
              "1       2625               6.0  \n",
              "2       1669               7.0  \n",
              "3        712               8.0  \n",
              "4        593               7.0  "
            ]
          },
          "execution_count": 4,
          "metadata": {},
          "output_type": "execute_result"
        }
      ],
      "source": [
        "#Loading the dataset\n",
        "path = os.getcwd()\n",
        "dataset_path = path + '/dataset'\n",
        "dfs = []\n",
        "for i,fname in enumerate(os.listdir(dataset_path)):\n",
        "    if fname.endswith('.xlsx'):\n",
        "        file_path = os.path.join(dataset_path, fname)\n",
        "        df = pd.read_excel(file_path)\n",
        "        dfs.append(df)\n",
        "df = pd.concat(dfs,ignore_index=True)\n",
        "df.head()"
      ]
    },
    {
      "cell_type": "code",
      "execution_count": null,
      "id": "e1f61d54-97c9-4731-af8b-87f5d336492d",
      "metadata": {
        "id": "e1f61d54-97c9-4731-af8b-87f5d336492d",
        "outputId": "d0394079-4202-48f1-cef0-7296672c309a"
      },
      "outputs": [
        {
          "data": {
            "text/plain": [
              "(7938, 5)"
            ]
          },
          "execution_count": 5,
          "metadata": {},
          "output_type": "execute_result"
        }
      ],
      "source": [
        "df.shape"
      ]
    },
    {
      "cell_type": "code",
      "execution_count": null,
      "id": "e5e43cbc-ba97-4570-8af7-e2237a4d38e8",
      "metadata": {
        "id": "e5e43cbc-ba97-4570-8af7-e2237a4d38e8",
        "outputId": "77019400-334a-4558-fba1-6c6305389282"
      },
      "outputs": [
        {
          "name": "stdout",
          "output_type": "stream",
          "text": [
            "<class 'pandas.core.frame.DataFrame'>\n",
            "RangeIndex: 7938 entries, 0 to 7937\n",
            "Data columns (total 5 columns):\n",
            " #   Column            Non-Null Count  Dtype  \n",
            "---  ------            --------------  -----  \n",
            " 0   question          7938 non-null   object \n",
            " 1   reply             7937 non-null   object \n",
            " 2   replies_count     7938 non-null   int64  \n",
            " 3   up_counts         7938 non-null   int64  \n",
            " 4   relevance_rating  4832 non-null   float64\n",
            "dtypes: float64(1), int64(2), object(2)\n",
            "memory usage: 310.2+ KB\n"
          ]
        }
      ],
      "source": [
        "df.info()"
      ]
    },
    {
      "cell_type": "markdown",
      "id": "f010cf75-b4bb-4f4c-a9ec-9bd7b26eb926",
      "metadata": {
        "id": "f010cf75-b4bb-4f4c-a9ec-9bd7b26eb926"
      },
      "source": [
        "- Basic Pre-processing"
      ]
    },
    {
      "cell_type": "code",
      "execution_count": null,
      "id": "79a2278f-3ff1-4b53-8d37-b99c04504cb2",
      "metadata": {
        "id": "79a2278f-3ff1-4b53-8d37-b99c04504cb2"
      },
      "outputs": [],
      "source": [
        "df.rename(columns={'reply': 'comment'}, inplace=True)\n",
        "df.rename(columns={'up_counts': 'score'}, inplace=True)"
      ]
    },
    {
      "cell_type": "code",
      "execution_count": null,
      "id": "a909eaec-32cc-4bae-861e-e69a442f059c",
      "metadata": {
        "id": "a909eaec-32cc-4bae-861e-e69a442f059c"
      },
      "outputs": [],
      "source": [
        "#Dropping the records with no reply.\n",
        "df = df.dropna(subset=['comment'])"
      ]
    },
    {
      "cell_type": "code",
      "execution_count": null,
      "id": "6d304f2a-2c72-40e4-9001-b4214702057d",
      "metadata": {
        "id": "6d304f2a-2c72-40e4-9001-b4214702057d"
      },
      "outputs": [],
      "source": [
        "#Drop duplicate records.\n",
        "df.drop_duplicates(subset=['question', 'comment'], keep='first', inplace=True)"
      ]
    },
    {
      "cell_type": "code",
      "execution_count": null,
      "id": "e1f14baa-b9ea-425b-86a3-6d2e91a2a180",
      "metadata": {
        "id": "e1f14baa-b9ea-425b-86a3-6d2e91a2a180"
      },
      "outputs": [],
      "source": [
        "#Dropping the records which are deleted/removed posts.\n",
        "invalid_posts = ['[deleted]','[removed]']\n",
        "df = df[~df['comment'].isin(invalid_posts)]"
      ]
    },
    {
      "cell_type": "code",
      "execution_count": null,
      "id": "d391f3b9-3a9d-40d3-b204-132fe4e0b316",
      "metadata": {
        "id": "d391f3b9-3a9d-40d3-b204-132fe4e0b316",
        "outputId": "5ee87475-c60d-4c59-8be7-181ae8c5af23"
      },
      "outputs": [
        {
          "name": "stdout",
          "output_type": "stream",
          "text": [
            "<class 'pandas.core.frame.DataFrame'>\n",
            "Index: 7571 entries, 0 to 7937\n",
            "Data columns (total 5 columns):\n",
            " #   Column            Non-Null Count  Dtype  \n",
            "---  ------            --------------  -----  \n",
            " 0   question          7571 non-null   object \n",
            " 1   comment           7571 non-null   object \n",
            " 2   replies_count     7571 non-null   int64  \n",
            " 3   score             7571 non-null   int64  \n",
            " 4   relevance_rating  4669 non-null   float64\n",
            "dtypes: float64(1), int64(2), object(2)\n",
            "memory usage: 354.9+ KB\n"
          ]
        }
      ],
      "source": [
        "df.info()"
      ]
    },
    {
      "cell_type": "code",
      "execution_count": null,
      "id": "0a5762b0-acc0-44c1-8215-7e3eb949aba3",
      "metadata": {
        "id": "0a5762b0-acc0-44c1-8215-7e3eb949aba3"
      },
      "outputs": [],
      "source": [
        "#Cleaning the comment data.\n",
        "def clean_text(text):\n",
        "    #Removing the attached urls\n",
        "    url_pattern = r'https?://\\S+|www\\.\\S+'\n",
        "    text = re.sub(url_pattern, '', text)\n",
        "    #Replacing the \\n with spaces\n",
        "    text = text.replace('\\n', ' ')\n",
        "    #Removing the extra spaces\n",
        "    text = re.sub(r'\\s+', ' ', text)\n",
        "    text = text.strip()\n",
        "    #Removing the emojis\n",
        "    text = emoji.demojize(text)\n",
        "    return text\n",
        "df['comment'] = df['comment'].apply(clean_text)"
      ]
    },
    {
      "cell_type": "code",
      "execution_count": null,
      "id": "2e7f262a-3149-4348-bb09-c42a904c2f95",
      "metadata": {
        "id": "2e7f262a-3149-4348-bb09-c42a904c2f95",
        "outputId": "1c04ebce-a206-4240-c788-9a4f880c68a1"
      },
      "outputs": [
        {
          "name": "stdout",
          "output_type": "stream",
          "text": [
            "                                               question  \\\n",
            "4241  What is a Pokemon you love that isn't very pop...   \n",
            "6137            What is your favourite game of all time   \n",
            "6093            What is your favourite game of all time   \n",
            "6334            What is your favourite game of all time   \n",
            "6903            What is your favourite game of all time   \n",
            "\n",
            "                                                comment  replies_count  score  \\\n",
            "4241                                            Kartana              0      1   \n",
            "6137                               Farming simulator 22              0      1   \n",
            "6093                                   Age of Empires 2              0      1   \n",
            "6334  Silent Hill 2. What, a video game with subtext...              0      1   \n",
            "6903  I really think ODST is totally underrated. Yea...              1      1   \n",
            "\n",
            "      relevance_rating  \n",
            "4241               NaN  \n",
            "6137               6.0  \n",
            "6093               6.0  \n",
            "6334               6.0  \n",
            "6903               NaN  \n"
          ]
        }
      ],
      "source": [
        "print(df.sample(n=5))"
      ]
    },
    {
      "cell_type": "code",
      "execution_count": null,
      "id": "3169fbb9-f066-4e1c-9d6d-d46368d0ac9a",
      "metadata": {
        "id": "3169fbb9-f066-4e1c-9d6d-d46368d0ac9a",
        "outputId": "5e3d002e-23b7-414d-bf7e-be635b6e10b5"
      },
      "outputs": [
        {
          "data": {
            "text/plain": [
              "relevance_rating\n",
              "1.0     992\n",
              "6.0     840\n",
              "7.0     595\n",
              "8.0     587\n",
              "9.0     417\n",
              "10.0    357\n",
              "3.0     225\n",
              "5.0     214\n",
              "2.0     212\n",
              "4.0     156\n",
              "0.0      74\n",
              "Name: count, dtype: int64"
            ]
          },
          "execution_count": 14,
          "metadata": {},
          "output_type": "execute_result"
        }
      ],
      "source": [
        "#Checking the target.\n",
        "df['relevance_rating'].value_counts()"
      ]
    },
    {
      "cell_type": "markdown",
      "id": "54649ac6-07e9-4b77-a0ec-877c7a4036ad",
      "metadata": {
        "id": "54649ac6-07e9-4b77-a0ec-877c7a4036ad"
      },
      "source": [
        "There are null values and 0 as well when the considered scale is from 1-10."
      ]
    },
    {
      "cell_type": "code",
      "execution_count": null,
      "id": "56f95e0b-385f-43e3-b120-005d8ad6babe",
      "metadata": {
        "id": "56f95e0b-385f-43e3-b120-005d8ad6babe",
        "outputId": "b7c9bf20-b338-42ef-ace4-229aa7e273a2"
      },
      "outputs": [
        {
          "data": {
            "text/plain": [
              "relevance_rating\n",
              "1.0     1066\n",
              "6.0      840\n",
              "7.0      595\n",
              "8.0      587\n",
              "9.0      417\n",
              "10.0     357\n",
              "3.0      225\n",
              "5.0      214\n",
              "2.0      212\n",
              "4.0      156\n",
              "Name: count, dtype: int64"
            ]
          },
          "execution_count": 15,
          "metadata": {},
          "output_type": "execute_result"
        }
      ],
      "source": [
        "#replacing the 0s with 1s\n",
        "df['relevance_rating'] = df['relevance_rating'].replace(0.0, 1.0)\n",
        "df['relevance_rating'].value_counts()"
      ]
    },
    {
      "cell_type": "markdown",
      "id": "0eab4032-afcd-465c-be37-a46c2e714d9d",
      "metadata": {
        "id": "0eab4032-afcd-465c-be37-a46c2e714d9d"
      },
      "source": [
        "Imbalanced data based on the relevance_ratings."
      ]
    },
    {
      "cell_type": "markdown",
      "id": "7639430f-bf58-4db0-a297-408784253acd",
      "metadata": {
        "id": "7639430f-bf58-4db0-a297-408784253acd"
      },
      "source": [
        "- Visualizations"
      ]
    },
    {
      "cell_type": "code",
      "execution_count": null,
      "id": "e484e976-b82f-4ab8-8b60-f49d198c6211",
      "metadata": {
        "id": "e484e976-b82f-4ab8-8b60-f49d198c6211",
        "outputId": "e73ce0f4-5948-4347-fc23-f56a223dfe1e"
      },
      "outputs": [
        {
          "name": "stdout",
          "output_type": "stream",
          "text": [
            "<class 'pandas.core.frame.DataFrame'>\n",
            "Index: 7571 entries, 0 to 7937\n",
            "Data columns (total 5 columns):\n",
            " #   Column            Non-Null Count  Dtype  \n",
            "---  ------            --------------  -----  \n",
            " 0   question          7571 non-null   object \n",
            " 1   comment           7571 non-null   object \n",
            " 2   replies_count     7571 non-null   int64  \n",
            " 3   score             7571 non-null   int64  \n",
            " 4   relevance_rating  4669 non-null   float64\n",
            "dtypes: float64(1), int64(2), object(2)\n",
            "memory usage: 354.9+ KB\n"
          ]
        }
      ],
      "source": [
        "df.info()"
      ]
    },
    {
      "cell_type": "code",
      "execution_count": null,
      "id": "2dc9f78c-bdf7-43c9-a6ac-1350d034d042",
      "metadata": {
        "id": "2dc9f78c-bdf7-43c9-a6ac-1350d034d042"
      },
      "outputs": [],
      "source": [
        "#Shuffling the records.\n",
        "df = df.sample(frac=1).reset_index(drop=True)"
      ]
    },
    {
      "cell_type": "code",
      "execution_count": null,
      "id": "1c478804-f209-4c68-8d7a-b55a52f61df9",
      "metadata": {
        "id": "1c478804-f209-4c68-8d7a-b55a52f61df9",
        "outputId": "72e764a0-2880-4a3c-b70c-bd833060a5e9"
      },
      "outputs": [
        {
          "data": {
            "text/html": [
              "<div>\n",
              "<style scoped>\n",
              "    .dataframe tbody tr th:only-of-type {\n",
              "        vertical-align: middle;\n",
              "    }\n",
              "\n",
              "    .dataframe tbody tr th {\n",
              "        vertical-align: top;\n",
              "    }\n",
              "\n",
              "    .dataframe thead th {\n",
              "        text-align: right;\n",
              "    }\n",
              "</style>\n",
              "<table border=\"1\" class=\"dataframe\">\n",
              "  <thead>\n",
              "    <tr style=\"text-align: right;\">\n",
              "      <th></th>\n",
              "      <th>replies_count</th>\n",
              "      <th>score</th>\n",
              "      <th>relevance_rating</th>\n",
              "    </tr>\n",
              "  </thead>\n",
              "  <tbody>\n",
              "    <tr>\n",
              "      <th>count</th>\n",
              "      <td>7571.000000</td>\n",
              "      <td>7571.000000</td>\n",
              "      <td>4669.000000</td>\n",
              "    </tr>\n",
              "    <tr>\n",
              "      <th>mean</th>\n",
              "      <td>0.433100</td>\n",
              "      <td>11.222956</td>\n",
              "      <td>5.372242</td>\n",
              "    </tr>\n",
              "    <tr>\n",
              "      <th>std</th>\n",
              "      <td>1.451773</td>\n",
              "      <td>77.151973</td>\n",
              "      <td>3.051719</td>\n",
              "    </tr>\n",
              "    <tr>\n",
              "      <th>min</th>\n",
              "      <td>0.000000</td>\n",
              "      <td>-62.000000</td>\n",
              "      <td>1.000000</td>\n",
              "    </tr>\n",
              "    <tr>\n",
              "      <th>25%</th>\n",
              "      <td>0.000000</td>\n",
              "      <td>1.000000</td>\n",
              "      <td>2.000000</td>\n",
              "    </tr>\n",
              "    <tr>\n",
              "      <th>50%</th>\n",
              "      <td>0.000000</td>\n",
              "      <td>1.000000</td>\n",
              "      <td>6.000000</td>\n",
              "    </tr>\n",
              "    <tr>\n",
              "      <th>75%</th>\n",
              "      <td>0.000000</td>\n",
              "      <td>3.000000</td>\n",
              "      <td>8.000000</td>\n",
              "    </tr>\n",
              "    <tr>\n",
              "      <th>max</th>\n",
              "      <td>54.000000</td>\n",
              "      <td>2916.000000</td>\n",
              "      <td>10.000000</td>\n",
              "    </tr>\n",
              "  </tbody>\n",
              "</table>\n",
              "</div>"
            ],
            "text/plain": [
              "       replies_count        score  relevance_rating\n",
              "count    7571.000000  7571.000000       4669.000000\n",
              "mean        0.433100    11.222956          5.372242\n",
              "std         1.451773    77.151973          3.051719\n",
              "min         0.000000   -62.000000          1.000000\n",
              "25%         0.000000     1.000000          2.000000\n",
              "50%         0.000000     1.000000          6.000000\n",
              "75%         0.000000     3.000000          8.000000\n",
              "max        54.000000  2916.000000         10.000000"
            ]
          },
          "execution_count": 18,
          "metadata": {},
          "output_type": "execute_result"
        }
      ],
      "source": [
        "df.describe()"
      ]
    },
    {
      "cell_type": "code",
      "execution_count": null,
      "id": "0442d6cd-90cc-498f-9ddf-b5af33edd35c",
      "metadata": {
        "id": "0442d6cd-90cc-498f-9ddf-b5af33edd35c",
        "outputId": "f10b8eb0-267d-4efd-8ffc-22a91c27573d"
      },
      "outputs": [
        {
          "data": {
            "image/png": "[encoded data removed]",
            "text/plain": [
              "<Figure size 640x480 with 4 Axes>"
            ]
          },
          "metadata": {},
          "output_type": "display_data"
        }
      ],
      "source": [
        "#Continuous values\n",
        "df.hist(bins = 20)\n",
        "plt.show()"
      ]
    },
    {
      "cell_type": "code",
      "execution_count": null,
      "id": "25869729-7d3c-428a-9ec5-14d60e2c0d28",
      "metadata": {
        "id": "25869729-7d3c-428a-9ec5-14d60e2c0d28",
        "outputId": "d0072a40-1a7b-40e7-fd89-048163ca2fdf"
      },
      "outputs": [
        {
          "data": {
            "image/png": "[encoded data removed]",
            "text/plain": [
              "<Figure size 640x480 with 1 Axes>"
            ]
          },
          "metadata": {},
          "output_type": "display_data"
        }
      ],
      "source": [
        "df['relevance_rating'].value_counts().plot.pie()\n",
        "plt.show()"
      ]
    },
    {
      "cell_type": "code",
      "execution_count": null,
      "id": "0d514de0-3e8a-427e-94cc-5b19a7bd1441",
      "metadata": {
        "id": "0d514de0-3e8a-427e-94cc-5b19a7bd1441",
        "outputId": "2d30509a-92b7-4f0b-92c1-33770cbeb419"
      },
      "outputs": [
        {
          "data": {
            "image/png": "[encoded data removed]",
            "text/plain": [
              "<Figure size 640x480 with 2 Axes>"
            ]
          },
          "metadata": {},
          "output_type": "display_data"
        }
      ],
      "source": [
        "numeric_cols = df.select_dtypes(include=['int64', 'float64'])\n",
        "sns.heatmap(numeric_cols.corr(), annot=True)\n",
        "plt.show()"
      ]
    },
    {
      "cell_type": "code",
      "execution_count": null,
      "id": "97e7102c-3d2a-48f0-9076-22d4469ee833",
      "metadata": {
        "id": "97e7102c-3d2a-48f0-9076-22d4469ee833",
        "outputId": "6a2e57d4-16d3-4f54-bbf4-acd1ff3724eb"
      },
      "outputs": [
        {
          "data": {
            "text/plain": [
              "question\n",
              "What is a Pokemon you love that isn't very popular or talked about?        2491\n",
              "What is your favourite game of all time                                    1251\n",
              "What do y’all think is the Best iphone 15 pro max color?                    898\n",
              "Which cities in America is baseball more popular than football?             888\n",
              "What is THE best question to ask on a job interview?                        671\n",
              "Most job interviews are harder than the job itself                          344\n",
              "Anyone else feel like LinkedIn is overrated to job searching?               330\n",
              "What are your favorite gadgets that make life just a little bit easier?     259\n",
              "What's YOUR favourite food?                                                 205\n",
              "Is Youtube music better than Spotify?                                       134\n",
              "Is baseball poorly designed?                                                100\n",
              "Name: count, dtype: int64"
            ]
          },
          "execution_count": 22,
          "metadata": {},
          "output_type": "execute_result"
        }
      ],
      "source": [
        "#Just for visualization:\n",
        "df['question'].value_counts()"
      ]
    },
    {
      "cell_type": "code",
      "execution_count": null,
      "id": "5c2753f9-9090-419f-9309-798bf81fa24f",
      "metadata": {
        "id": "5c2753f9-9090-419f-9309-798bf81fa24f"
      },
      "outputs": [],
      "source": [
        "label_encoder = LabelEncoder()\n",
        "df_question_encoded = df.copy()\n",
        "df_question_encoded['question'] = label_encoder.fit_transform(df_question_encoded['question'])"
      ]
    },
    {
      "cell_type": "code",
      "execution_count": null,
      "id": "de66e096-8cb2-4aad-974d-2512cac96f0a",
      "metadata": {
        "id": "de66e096-8cb2-4aad-974d-2512cac96f0a",
        "outputId": "6a5ce446-9cca-4279-c6a5-89056a387d8c"
      },
      "outputs": [
        {
          "data": {
            "image/png": "[encoded data removed]",
            "text/plain": [
              "<Figure size 600x400 with 1 Axes>"
            ]
          },
          "metadata": {},
          "output_type": "display_data"
        }
      ],
      "source": [
        "#Distribution of relevance_rating as per the questions.\n",
        "plt.figure(figsize=(6, 4))\n",
        "sns.boxplot(data=df_question_encoded, x='question', y='relevance_rating')\n",
        "plt.title('Distribution of Relevance Rating as per the Question')\n",
        "plt.show()"
      ]
    },
    {
      "cell_type": "code",
      "execution_count": null,
      "id": "4200a3b0-ece7-4f36-8bfe-7f94b35c3a44",
      "metadata": {
        "id": "4200a3b0-ece7-4f36-8bfe-7f94b35c3a44",
        "outputId": "d52386df-42d8-4046-d148-0a2df04a67e8"
      },
      "outputs": [
        {
          "data": {
            "image/png": "[encoded data removed]",
            "text/plain": [
              "<Figure size 600x400 with 1 Axes>"
            ]
          },
          "metadata": {},
          "output_type": "display_data"
        }
      ],
      "source": [
        "#Distribution of comments as per questions.\n",
        "plt.figure(figsize=(6, 4))\n",
        "sns.countplot(data=df_question_encoded, x='question')\n",
        "plt.title('Question to Comment Distribution')\n",
        "plt.show()"
      ]
    },
    {
      "cell_type": "code",
      "execution_count": null,
      "id": "d55b8318-5b12-4161-b776-d7b707462899",
      "metadata": {
        "id": "d55b8318-5b12-4161-b776-d7b707462899",
        "outputId": "f62cefd3-51df-49ba-8cef-cd40a071a2c1"
      },
      "outputs": [
        {
          "data": {
            "image/png": "[encoded data removed]",
            "text/plain": [
              "<Figure size 1200x600 with 1 Axes>"
            ]
          },
          "metadata": {},
          "output_type": "display_data"
        }
      ],
      "source": [
        "#Question to Comment Distribution divided by Relevance Ratings\n",
        "plt.figure(figsize=(12, 6))\n",
        "sns.countplot(data=df_question_encoded, x='question', hue='relevance_rating')\n",
        "plt.title('Question to Comment Distribution by Relevance Ratings')\n",
        "plt.xlabel('Question')\n",
        "plt.ylabel('Count of Comments')\n",
        "plt.legend(title='Relevance Rating')\n",
        "plt.show()"
      ]
    },
    {
      "cell_type": "code",
      "execution_count": null,
      "id": "77c73095-6ce5-4a2a-9ab1-5ff14e9d0aff",
      "metadata": {
        "id": "77c73095-6ce5-4a2a-9ab1-5ff14e9d0aff",
        "outputId": "3f98fa5d-f693-4c77-d0f4-142e21fcd893"
      },
      "outputs": [
        {
          "data": {
            "text/plain": [
              "question               0\n",
              "comment                0\n",
              "replies_count          0\n",
              "score                  0\n",
              "relevance_rating    2902\n",
              "dtype: int64"
            ]
          },
          "execution_count": 27,
          "metadata": {},
          "output_type": "execute_result"
        }
      ],
      "source": [
        "df.isnull().sum()"
      ]
    },
    {
      "cell_type": "code",
      "execution_count": null,
      "id": "6752c592-be0d-4576-8920-dedb7ba7f3f7",
      "metadata": {
        "id": "6752c592-be0d-4576-8920-dedb7ba7f3f7"
      },
      "outputs": [],
      "source": [
        "#deleting rows with comment length equal to or less than 3\n",
        "df = df[df['comment'].apply(lambda x: len(x.split()) > 3)]"
      ]
    },
    {
      "cell_type": "markdown",
      "id": "1c96d2a1-5946-4329-b96f-02a398bebfa9",
      "metadata": {
        "id": "1c96d2a1-5946-4329-b96f-02a398bebfa9"
      },
      "source": [
        "Label propagation-1 (doubt)"
      ]
    },
    {
      "cell_type": "code",
      "execution_count": null,
      "id": "53adfbd9-76ac-4082-9bae-9902521e2181",
      "metadata": {
        "id": "53adfbd9-76ac-4082-9bae-9902521e2181"
      },
      "outputs": [],
      "source": [
        "tfidf_vectorizer = TfidfVectorizer()\n",
        "tfidf_features_labeled = tfidf_vectorizer.fit_transform(df.loc[df['relevance_rating'].notnull(), 'comment'])"
      ]
    },
    {
      "cell_type": "code",
      "execution_count": null,
      "id": "c4a3ef16-28dc-404c-a927-81fa43b36a3a",
      "metadata": {
        "id": "c4a3ef16-28dc-404c-a927-81fa43b36a3a",
        "outputId": "9fad0318-5f0d-44dc-f1e4-56760b129d5b"
      },
      "outputs": [
        {
          "data": {
            "text/plain": [
              "(4136, 9986)"
            ]
          },
          "execution_count": 30,
          "metadata": {},
          "output_type": "execute_result"
        }
      ],
      "source": [
        "tfidf_features_labeled.shape"
      ]
    },
    {
      "cell_type": "code",
      "execution_count": null,
      "id": "cc10ee84-1695-4f7f-8ed7-3c3f3fa1e0fc",
      "metadata": {
        "id": "cc10ee84-1695-4f7f-8ed7-3c3f3fa1e0fc"
      },
      "outputs": [],
      "source": [
        "similarity_matrix = cosine_similarity(tfidf_features_labeled)"
      ]
    },
    {
      "cell_type": "code",
      "execution_count": null,
      "id": "3c9d1e04-b0f4-420f-b4aa-b31cc0259c11",
      "metadata": {
        "id": "3c9d1e04-b0f4-420f-b4aa-b31cc0259c11"
      },
      "outputs": [],
      "source": [
        "# Extract labeled features and labels\n",
        "features_labeled = tfidf_features_labeled\n",
        "labels_labeled = df.loc[df['relevance_rating'].notnull(), 'relevance_rating']"
      ]
    },
    {
      "cell_type": "code",
      "execution_count": null,
      "id": "3260d071-f22b-42ad-9643-382d0dff2a60",
      "metadata": {
        "id": "3260d071-f22b-42ad-9643-382d0dff2a60",
        "outputId": "19be52b7-1319-4a52-881d-db9e67b5e9b1"
      },
      "outputs": [
        {
          "data": {
            "text/plain": [
              "(4136,)"
            ]
          },
          "execution_count": 33,
          "metadata": {},
          "output_type": "execute_result"
        }
      ],
      "source": [
        "labels_labeled.shape"
      ]
    },
    {
      "cell_type": "code",
      "execution_count": null,
      "id": "07b0d85b-4b02-484b-8273-f8584df28026",
      "metadata": {
        "id": "07b0d85b-4b02-484b-8273-f8584df28026"
      },
      "outputs": [],
      "source": [
        "unlabeled_data = df[df['relevance_rating'].isnull()]"
      ]
    },
    {
      "cell_type": "code",
      "execution_count": null,
      "id": "0197e6cf-4aef-4758-a2ba-a7da573321eb",
      "metadata": {
        "id": "0197e6cf-4aef-4758-a2ba-a7da573321eb"
      },
      "outputs": [],
      "source": [
        "tfidf_features_unlabeled = tfidf_vectorizer.transform(unlabeled_data['comment'])"
      ]
    },
    {
      "cell_type": "code",
      "execution_count": null,
      "id": "5709844f-f010-4d5f-9b72-6af7ec4f1ade",
      "metadata": {
        "id": "5709844f-f010-4d5f-9b72-6af7ec4f1ade",
        "outputId": "e8a0630c-9d59-497c-8301-772eea9c1599"
      },
      "outputs": [
        {
          "data": {
            "text/html": [
              "<style>#sk-container-id-1 {color: black;}#sk-container-id-1 pre{padding: 0;}#sk-container-id-1 div.sk-toggleable {background-color: white;}#sk-container-id-1 label.sk-toggleable__label {cursor: pointer;display: block;width: 100%;margin-bottom: 0;padding: 0.3em;box-sizing: border-box;text-align: center;}#sk-container-id-1 label.sk-toggleable__label-arrow:before {content: \"▸\";float: left;margin-right: 0.25em;color: #696969;}#sk-container-id-1 label.sk-toggleable__label-arrow:hover:before {color: black;}#sk-container-id-1 div.sk-estimator:hover label.sk-toggleable__label-arrow:before {color: black;}#sk-container-id-1 div.sk-toggleable__content {max-height: 0;max-width: 0;overflow: hidden;text-align: left;background-color: #f0f8ff;}#sk-container-id-1 div.sk-toggleable__content pre {margin: 0.2em;color: black;border-radius: 0.25em;background-color: #f0f8ff;}#sk-container-id-1 input.sk-toggleable__control:checked~div.sk-toggleable__content {max-height: 200px;max-width: 100%;overflow: auto;}#sk-container-id-1 input.sk-toggleable__control:checked~label.sk-toggleable__label-arrow:before {content: \"▾\";}#sk-container-id-1 div.sk-estimator input.sk-toggleable__control:checked~label.sk-toggleable__label {background-color: #d4ebff;}#sk-container-id-1 div.sk-label input.sk-toggleable__control:checked~label.sk-toggleable__label {background-color: #d4ebff;}#sk-container-id-1 input.sk-hidden--visually {border: 0;clip: rect(1px 1px 1px 1px);clip: rect(1px, 1px, 1px, 1px);height: 1px;margin: -1px;overflow: hidden;padding: 0;position: absolute;width: 1px;}#sk-container-id-1 div.sk-estimator {font-family: monospace;background-color: #f0f8ff;border: 1px dotted black;border-radius: 0.25em;box-sizing: border-box;margin-bottom: 0.5em;}#sk-container-id-1 div.sk-estimator:hover {background-color: #d4ebff;}#sk-container-id-1 div.sk-parallel-item::after {content: \"\";width: 100%;border-bottom: 1px solid gray;flex-grow: 1;}#sk-container-id-1 div.sk-label:hover label.sk-toggleable__label {background-color: #d4ebff;}#sk-container-id-1 div.sk-serial::before {content: \"\";position: absolute;border-left: 1px solid gray;box-sizing: border-box;top: 0;bottom: 0;left: 50%;z-index: 0;}#sk-container-id-1 div.sk-serial {display: flex;flex-direction: column;align-items: center;background-color: white;padding-right: 0.2em;padding-left: 0.2em;position: relative;}#sk-container-id-1 div.sk-item {position: relative;z-index: 1;}#sk-container-id-1 div.sk-parallel {display: flex;align-items: stretch;justify-content: center;background-color: white;position: relative;}#sk-container-id-1 div.sk-item::before, #sk-container-id-1 div.sk-parallel-item::before {content: \"\";position: absolute;border-left: 1px solid gray;box-sizing: border-box;top: 0;bottom: 0;left: 50%;z-index: -1;}#sk-container-id-1 div.sk-parallel-item {display: flex;flex-direction: column;z-index: 1;position: relative;background-color: white;}#sk-container-id-1 div.sk-parallel-item:first-child::after {align-self: flex-end;width: 50%;}#sk-container-id-1 div.sk-parallel-item:last-child::after {align-self: flex-start;width: 50%;}#sk-container-id-1 div.sk-parallel-item:only-child::after {width: 0;}#sk-container-id-1 div.sk-dashed-wrapped {border: 1px dashed gray;margin: 0 0.4em 0.5em 0.4em;box-sizing: border-box;padding-bottom: 0.4em;background-color: white;}#sk-container-id-1 div.sk-label label {font-family: monospace;font-weight: bold;display: inline-block;line-height: 1.2em;}#sk-container-id-1 div.sk-label-container {text-align: center;}#sk-container-id-1 div.sk-container {/* jupyter's `normalize.less` sets `[hidden] { display: none; }` but bootstrap.min.css set `[hidden] { display: none !important; }` so we also need the `!important` here to be able to override the default hidden behavior on the sphinx rendered scikit-learn.org. See: https://github.com/scikit-learn/scikit-learn/issues/21755 */display: inline-block !important;position: relative;}#sk-container-id-1 div.sk-text-repr-fallback {display: none;}</style><div id=\"sk-container-id-1\" class=\"sk-top-container\"><div class=\"sk-text-repr-fallback\"><pre>LabelPropagation(kernel=&#x27;knn&#x27;, n_neighbors=5)</pre><b>In a Jupyter environment, please rerun this cell to show the HTML representation or trust the notebook. <br />On GitHub, the HTML representation is unable to render, please try loading this page with nbviewer.org.</b></div><div class=\"sk-container\" hidden><div class=\"sk-item\"><div class=\"sk-estimator sk-toggleable\"><input class=\"sk-toggleable__control sk-hidden--visually\" id=\"sk-estimator-id-1\" type=\"checkbox\" checked><label for=\"sk-estimator-id-1\" class=\"sk-toggleable__label sk-toggleable__label-arrow\">LabelPropagation</label><div class=\"sk-toggleable__content\"><pre>LabelPropagation(kernel=&#x27;knn&#x27;, n_neighbors=5)</pre></div></div></div></div></div>"
            ],
            "text/plain": [
              "LabelPropagation(kernel='knn', n_neighbors=5)"
            ]
          },
          "execution_count": 36,
          "metadata": {},
          "output_type": "execute_result"
        }
      ],
      "source": [
        "label_prop_model = LabelPropagation(kernel='knn', n_neighbors=5)\n",
        "label_prop_model.fit(features_labeled, labels_labeled)"
      ]
    },
    {
      "cell_type": "code",
      "execution_count": null,
      "id": "bdf4c85e-627c-4615-90f2-534c4c7c2d06",
      "metadata": {
        "id": "bdf4c85e-627c-4615-90f2-534c4c7c2d06"
      },
      "outputs": [],
      "source": [
        "propagated_labels = label_prop_model.transduction_"
      ]
    },
    {
      "cell_type": "code",
      "execution_count": null,
      "id": "0f3a356b-a233-43d7-af11-4eab83072bde",
      "metadata": {
        "id": "0f3a356b-a233-43d7-af11-4eab83072bde"
      },
      "outputs": [],
      "source": [
        "unlabeled_df = df[df['relevance_rating'].isnull()].copy()"
      ]
    },
    {
      "cell_type": "code",
      "execution_count": null,
      "id": "02c4f18a-ddc8-47cf-874d-4d4297f1ccf5",
      "metadata": {
        "id": "02c4f18a-ddc8-47cf-874d-4d4297f1ccf5"
      },
      "outputs": [],
      "source": [
        "tfidf_vectorizer = TfidfVectorizer()\n",
        "tfidf_features_unlabeled = tfidf_vectorizer.fit_transform(df['comment'])"
      ]
    },
    {
      "cell_type": "code",
      "execution_count": null,
      "id": "364d877b-002f-4f65-a0dc-6118d0f3b1d2",
      "metadata": {
        "id": "364d877b-002f-4f65-a0dc-6118d0f3b1d2"
      },
      "outputs": [],
      "source": [
        "unlabeled_df['propagated_label'] = propagated_labels[:len(unlabeled_df)]"
      ]
    },
    {
      "cell_type": "code",
      "execution_count": null,
      "id": "d1767293-a725-4640-b9d2-9a4c0c4c6ba9",
      "metadata": {
        "id": "d1767293-a725-4640-b9d2-9a4c0c4c6ba9",
        "outputId": "81c5e1b1-6f16-43d9-d767-c7e7522022a3"
      },
      "outputs": [
        {
          "data": {
            "text/html": [
              "<div>\n",
              "<style scoped>\n",
              "    .dataframe tbody tr th:only-of-type {\n",
              "        vertical-align: middle;\n",
              "    }\n",
              "\n",
              "    .dataframe tbody tr th {\n",
              "        vertical-align: top;\n",
              "    }\n",
              "\n",
              "    .dataframe thead th {\n",
              "        text-align: right;\n",
              "    }\n",
              "</style>\n",
              "<table border=\"1\" class=\"dataframe\">\n",
              "  <thead>\n",
              "    <tr style=\"text-align: right;\">\n",
              "      <th></th>\n",
              "      <th>question</th>\n",
              "      <th>comment</th>\n",
              "      <th>replies_count</th>\n",
              "      <th>score</th>\n",
              "      <th>relevance_rating</th>\n",
              "      <th>propagated_label</th>\n",
              "    </tr>\n",
              "  </thead>\n",
              "  <tbody>\n",
              "    <tr>\n",
              "      <th>0</th>\n",
              "      <td>What is THE best question to ask on a job inte...</td>\n",
              "      <td>nice, Yeah a few weeks ago my company (psychia...</td>\n",
              "      <td>1</td>\n",
              "      <td>29</td>\n",
              "      <td>NaN</td>\n",
              "      <td>10.0</td>\n",
              "    </tr>\n",
              "    <tr>\n",
              "      <th>5</th>\n",
              "      <td>What is THE best question to ask on a job inte...</td>\n",
              "      <td>Many times I’ve been hiring, I’m looking for a...</td>\n",
              "      <td>1</td>\n",
              "      <td>0</td>\n",
              "      <td>NaN</td>\n",
              "      <td>1.0</td>\n",
              "    </tr>\n",
              "    <tr>\n",
              "      <th>6</th>\n",
              "      <td>What is a Pokemon you love that isn't very pop...</td>\n",
              "      <td>Popplio. People prefer primarina</td>\n",
              "      <td>0</td>\n",
              "      <td>1</td>\n",
              "      <td>NaN</td>\n",
              "      <td>1.0</td>\n",
              "    </tr>\n",
              "    <tr>\n",
              "      <th>8</th>\n",
              "      <td>What do y’all think is the Best iphone 15 pro ...</td>\n",
              "      <td>IMO, the blue looks really good but I think I'...</td>\n",
              "      <td>0</td>\n",
              "      <td>1</td>\n",
              "      <td>NaN</td>\n",
              "      <td>3.0</td>\n",
              "    </tr>\n",
              "    <tr>\n",
              "      <th>12</th>\n",
              "      <td>What do y’all think is the Best iphone 15 pro ...</td>\n",
              "      <td>For me, it’s the Natural color</td>\n",
              "      <td>0</td>\n",
              "      <td>2</td>\n",
              "      <td>NaN</td>\n",
              "      <td>7.0</td>\n",
              "    </tr>\n",
              "  </tbody>\n",
              "</table>\n",
              "</div>"
            ],
            "text/plain": [
              "                                             question  \\\n",
              "0   What is THE best question to ask on a job inte...   \n",
              "5   What is THE best question to ask on a job inte...   \n",
              "6   What is a Pokemon you love that isn't very pop...   \n",
              "8   What do y’all think is the Best iphone 15 pro ...   \n",
              "12  What do y’all think is the Best iphone 15 pro ...   \n",
              "\n",
              "                                              comment  replies_count  score  \\\n",
              "0   nice, Yeah a few weeks ago my company (psychia...              1     29   \n",
              "5   Many times I’ve been hiring, I’m looking for a...              1      0   \n",
              "6                    Popplio. People prefer primarina              0      1   \n",
              "8   IMO, the blue looks really good but I think I'...              0      1   \n",
              "12                     For me, it’s the Natural color              0      2   \n",
              "\n",
              "    relevance_rating  propagated_label  \n",
              "0                NaN              10.0  \n",
              "5                NaN               1.0  \n",
              "6                NaN               1.0  \n",
              "8                NaN               3.0  \n",
              "12               NaN               7.0  "
            ]
          },
          "execution_count": 41,
          "metadata": {},
          "output_type": "execute_result"
        }
      ],
      "source": [
        "unlabeled_df.head()"
      ]
    },
    {
      "cell_type": "code",
      "execution_count": null,
      "id": "a5169a97-38ae-4aa8-bda3-ddc127c71dd6",
      "metadata": {
        "id": "a5169a97-38ae-4aa8-bda3-ddc127c71dd6"
      },
      "outputs": [],
      "source": [
        "unlabeled_df.to_excel(path+\"\\\\predictions\\\\unlabeled_data_1.xlsx\", index=False)"
      ]
    },
    {
      "cell_type": "code",
      "execution_count": null,
      "id": "8f6a0988-0a92-4476-9504-38239e33af76",
      "metadata": {
        "id": "8f6a0988-0a92-4476-9504-38239e33af76"
      },
      "outputs": [],
      "source": []
    },
    {
      "cell_type": "raw",
      "id": "4c7813ed-d9cf-407f-83dc-570c4718aba2",
      "metadata": {
        "id": "4c7813ed-d9cf-407f-83dc-570c4718aba2"
      },
      "source": [
        "Label propagation-2 (using similarity between question and comments)"
      ]
    },
    {
      "cell_type": "code",
      "execution_count": null,
      "id": "17cb1dc2-c893-482f-addb-4eadfc7f3bbe",
      "metadata": {
        "id": "17cb1dc2-c893-482f-addb-4eadfc7f3bbe"
      },
      "outputs": [],
      "source": [
        "sid = SentimentIntensityAnalyzer()\n",
        "\n",
        "def get_sentiment_score(text):\n",
        "    sentiment_scores = sid.polarity_scores(text)\n",
        "    compound_score = sentiment_scores['compound']\n",
        "    return compound_score"
      ]
    },
    {
      "cell_type": "code",
      "execution_count": null,
      "id": "6466c4ee-eba9-40fc-8d1b-7c09ab1f68eb",
      "metadata": {
        "id": "6466c4ee-eba9-40fc-8d1b-7c09ab1f68eb"
      },
      "outputs": [],
      "source": [
        "def keyword_presence(comment, title):\n",
        "    # Preprocess comment and title: remove punctuation and convert to lowercase\n",
        "    comment = re.sub(r'[^\\w\\s]', '', comment.lower())\n",
        "    title = re.sub(r'[^\\w\\s]', '', title.lower())\n",
        "\n",
        "    # Split title into individual words\n",
        "    title_words = set(title.split())\n",
        "\n",
        "    # Check if any keyword from title is present in comment\n",
        "    for word in title_words:\n",
        "        if word in comment:\n",
        "            return True\n",
        "    return False"
      ]
    },
    {
      "cell_type": "code",
      "execution_count": null,
      "id": "966bba2f-5e41-4554-a8c7-7ee6dea6a54a",
      "metadata": {
        "id": "966bba2f-5e41-4554-a8c7-7ee6dea6a54a"
      },
      "outputs": [],
      "source": [
        "def create_features(data):\n",
        "    data['sentiment'] = data['comment'].apply(get_sentiment_score)\n",
        "    data['comment_length'] = data['comment'].apply(len)     # Length of comment\n",
        "    data['num_upvotes'] = data['score']\n",
        "    data['num_replies'] = data['replies_count']\n",
        "    # Check if keywords from the post title are present in the comment\n",
        "    data['keyword_presence'] = data.apply(lambda row: keyword_presence(row['comment'], row['question']), axis=1)\n",
        "\n",
        "    return data"
      ]
    },
    {
      "cell_type": "code",
      "execution_count": null,
      "id": "00c25076-696b-465b-a20c-8925fcd55dcc",
      "metadata": {
        "id": "00c25076-696b-465b-a20c-8925fcd55dcc"
      },
      "outputs": [],
      "source": [
        "# Feature engineering\n",
        "df = create_features(df)"
      ]
    },
    {
      "cell_type": "code",
      "execution_count": null,
      "id": "4e524541-6fef-4f77-bee4-6439c3444652",
      "metadata": {
        "id": "4e524541-6fef-4f77-bee4-6439c3444652"
      },
      "outputs": [],
      "source": [
        "labeled_data = df[df['relevance_rating'].notnull()]\n",
        "unlabeled_data = df[df['relevance_rating'].isnull()]"
      ]
    },
    {
      "cell_type": "code",
      "execution_count": null,
      "id": "0d4db6ec-fef3-494e-b4c8-68291ff93e59",
      "metadata": {
        "id": "0d4db6ec-fef3-494e-b4c8-68291ff93e59"
      },
      "outputs": [],
      "source": [
        "# Define features and labels for labeled data\n",
        "labeled_features = labeled_data[['comment', 'sentiment', 'num_upvotes', 'num_replies', 'keyword_presence']]\n",
        "labeled_labels = labeled_data['relevance_rating']"
      ]
    },
    {
      "cell_type": "code",
      "execution_count": null,
      "id": "9cac878a-d5c9-479b-9b24-acad508bad68",
      "metadata": {
        "id": "9cac878a-d5c9-479b-9b24-acad508bad68"
      },
      "outputs": [],
      "source": [
        "# Define features for unlabeled data\n",
        "unlabeled_features = unlabeled_data[['comment', 'sentiment', 'num_upvotes', 'num_replies', 'keyword_presence']]"
      ]
    },
    {
      "cell_type": "code",
      "execution_count": null,
      "id": "7dea6212-5496-4e71-9736-6107ccdb7e49",
      "metadata": {
        "id": "7dea6212-5496-4e71-9736-6107ccdb7e49"
      },
      "outputs": [],
      "source": [
        "# Train TF-IDF vectorizer\n",
        "vectorizer = TfidfVectorizer()\n",
        "X = vectorizer.fit_transform(labeled_features['comment'])"
      ]
    },
    {
      "cell_type": "code",
      "execution_count": null,
      "id": "5060305a-1266-412f-a052-fb503bac9b7f",
      "metadata": {
        "id": "5060305a-1266-412f-a052-fb503bac9b7f"
      },
      "outputs": [],
      "source": [
        "# Instantiate LabelPropagation model\n",
        "label_prop_model = LabelPropagation(kernel='knn', n_neighbors=5)"
      ]
    },
    {
      "cell_type": "code",
      "execution_count": null,
      "id": "b4221074-afe2-48bf-b0c3-2ea7799cf07d",
      "metadata": {
        "id": "b4221074-afe2-48bf-b0c3-2ea7799cf07d",
        "outputId": "51c221b3-a0e2-40c8-cdc2-220ccb26af20"
      },
      "outputs": [
        {
          "name": "stdout",
          "output_type": "stream",
          "text": [
            "comment              object\n",
            "sentiment           float64\n",
            "num_upvotes           int64\n",
            "num_replies           int64\n",
            "keyword_presence       bool\n",
            "dtype: object\n"
          ]
        }
      ],
      "source": [
        "print(labeled_features.dtypes)"
      ]
    },
    {
      "cell_type": "code",
      "execution_count": null,
      "id": "741cb6ad-f6d3-41f8-9084-7db0d11434ba",
      "metadata": {
        "id": "741cb6ad-f6d3-41f8-9084-7db0d11434ba",
        "outputId": "011599de-cb35-4b50-9de9-0986b83411bf"
      },
      "outputs": [
        {
          "data": {
            "text/html": [
              "<style>#sk-container-id-2 {color: black;}#sk-container-id-2 pre{padding: 0;}#sk-container-id-2 div.sk-toggleable {background-color: white;}#sk-container-id-2 label.sk-toggleable__label {cursor: pointer;display: block;width: 100%;margin-bottom: 0;padding: 0.3em;box-sizing: border-box;text-align: center;}#sk-container-id-2 label.sk-toggleable__label-arrow:before {content: \"▸\";float: left;margin-right: 0.25em;color: #696969;}#sk-container-id-2 label.sk-toggleable__label-arrow:hover:before {color: black;}#sk-container-id-2 div.sk-estimator:hover label.sk-toggleable__label-arrow:before {color: black;}#sk-container-id-2 div.sk-toggleable__content {max-height: 0;max-width: 0;overflow: hidden;text-align: left;background-color: #f0f8ff;}#sk-container-id-2 div.sk-toggleable__content pre {margin: 0.2em;color: black;border-radius: 0.25em;background-color: #f0f8ff;}#sk-container-id-2 input.sk-toggleable__control:checked~div.sk-toggleable__content {max-height: 200px;max-width: 100%;overflow: auto;}#sk-container-id-2 input.sk-toggleable__control:checked~label.sk-toggleable__label-arrow:before {content: \"▾\";}#sk-container-id-2 div.sk-estimator input.sk-toggleable__control:checked~label.sk-toggleable__label {background-color: #d4ebff;}#sk-container-id-2 div.sk-label input.sk-toggleable__control:checked~label.sk-toggleable__label {background-color: #d4ebff;}#sk-container-id-2 input.sk-hidden--visually {border: 0;clip: rect(1px 1px 1px 1px);clip: rect(1px, 1px, 1px, 1px);height: 1px;margin: -1px;overflow: hidden;padding: 0;position: absolute;width: 1px;}#sk-container-id-2 div.sk-estimator {font-family: monospace;background-color: #f0f8ff;border: 1px dotted black;border-radius: 0.25em;box-sizing: border-box;margin-bottom: 0.5em;}#sk-container-id-2 div.sk-estimator:hover {background-color: #d4ebff;}#sk-container-id-2 div.sk-parallel-item::after {content: \"\";width: 100%;border-bottom: 1px solid gray;flex-grow: 1;}#sk-container-id-2 div.sk-label:hover label.sk-toggleable__label {background-color: #d4ebff;}#sk-container-id-2 div.sk-serial::before {content: \"\";position: absolute;border-left: 1px solid gray;box-sizing: border-box;top: 0;bottom: 0;left: 50%;z-index: 0;}#sk-container-id-2 div.sk-serial {display: flex;flex-direction: column;align-items: center;background-color: white;padding-right: 0.2em;padding-left: 0.2em;position: relative;}#sk-container-id-2 div.sk-item {position: relative;z-index: 1;}#sk-container-id-2 div.sk-parallel {display: flex;align-items: stretch;justify-content: center;background-color: white;position: relative;}#sk-container-id-2 div.sk-item::before, #sk-container-id-2 div.sk-parallel-item::before {content: \"\";position: absolute;border-left: 1px solid gray;box-sizing: border-box;top: 0;bottom: 0;left: 50%;z-index: -1;}#sk-container-id-2 div.sk-parallel-item {display: flex;flex-direction: column;z-index: 1;position: relative;background-color: white;}#sk-container-id-2 div.sk-parallel-item:first-child::after {align-self: flex-end;width: 50%;}#sk-container-id-2 div.sk-parallel-item:last-child::after {align-self: flex-start;width: 50%;}#sk-container-id-2 div.sk-parallel-item:only-child::after {width: 0;}#sk-container-id-2 div.sk-dashed-wrapped {border: 1px dashed gray;margin: 0 0.4em 0.5em 0.4em;box-sizing: border-box;padding-bottom: 0.4em;background-color: white;}#sk-container-id-2 div.sk-label label {font-family: monospace;font-weight: bold;display: inline-block;line-height: 1.2em;}#sk-container-id-2 div.sk-label-container {text-align: center;}#sk-container-id-2 div.sk-container {/* jupyter's `normalize.less` sets `[hidden] { display: none; }` but bootstrap.min.css set `[hidden] { display: none !important; }` so we also need the `!important` here to be able to override the default hidden behavior on the sphinx rendered scikit-learn.org. See: https://github.com/scikit-learn/scikit-learn/issues/21755 */display: inline-block !important;position: relative;}#sk-container-id-2 div.sk-text-repr-fallback {display: none;}</style><div id=\"sk-container-id-2\" class=\"sk-top-container\"><div class=\"sk-text-repr-fallback\"><pre>LabelPropagation(kernel=&#x27;knn&#x27;, n_neighbors=5)</pre><b>In a Jupyter environment, please rerun this cell to show the HTML representation or trust the notebook. <br />On GitHub, the HTML representation is unable to render, please try loading this page with nbviewer.org.</b></div><div class=\"sk-container\" hidden><div class=\"sk-item\"><div class=\"sk-estimator sk-toggleable\"><input class=\"sk-toggleable__control sk-hidden--visually\" id=\"sk-estimator-id-2\" type=\"checkbox\" checked><label for=\"sk-estimator-id-2\" class=\"sk-toggleable__label sk-toggleable__label-arrow\">LabelPropagation</label><div class=\"sk-toggleable__content\"><pre>LabelPropagation(kernel=&#x27;knn&#x27;, n_neighbors=5)</pre></div></div></div></div></div>"
            ],
            "text/plain": [
              "LabelPropagation(kernel='knn', n_neighbors=5)"
            ]
          },
          "execution_count": 53,
          "metadata": {},
          "output_type": "execute_result"
        }
      ],
      "source": [
        "# Preprocess comment text\n",
        "vectorizer = TfidfVectorizer()\n",
        "comment_vectors = vectorizer.fit_transform(labeled_features['comment'])\n",
        "\n",
        "# Combine text features with other numerical features\n",
        "other_features = labeled_features.drop(columns=['comment'])\n",
        "combined_features = np.hstack((comment_vectors.toarray(), other_features))\n",
        "\n",
        "# Fit the label propagation model on combined features\n",
        "label_prop_model.fit(combined_features, labeled_labels)\n"
      ]
    },
    {
      "cell_type": "code",
      "execution_count": null,
      "id": "00bb53f4-ab5c-40ee-8818-2b3222f51d75",
      "metadata": {
        "id": "00bb53f4-ab5c-40ee-8818-2b3222f51d75"
      },
      "outputs": [],
      "source": [
        "# Preprocess comment text for unlabeled data\n",
        "unlabeled_comment_vectors = vectorizer.transform(unlabeled_features['comment'])\n",
        "\n",
        "# Combine text features with other numerical features for unlabeled data\n",
        "unlabeled_other_features = unlabeled_features.drop(columns=['comment'])\n",
        "combined_unlabeled_features = np.hstack((unlabeled_comment_vectors.toarray(), unlabeled_other_features))\n",
        "\n",
        "# Predict relevance scores for unlabeled data\n",
        "predicted_relevance = label_prop_model.predict(combined_unlabeled_features)"
      ]
    },
    {
      "cell_type": "code",
      "execution_count": null,
      "id": "04b0c6ac-4739-49d7-a2f7-dddad38b7185",
      "metadata": {
        "id": "04b0c6ac-4739-49d7-a2f7-dddad38b7185"
      },
      "outputs": [],
      "source": [
        "# Assign predicted relevance scores to unlabeled data\n",
        "unlabeled_data['predicted_relevance'] = predicted_relevance\n",
        "\n",
        "# Save unlabeled data with predicted relevance scores to Excel\n",
        "unlabeled_data.to_excel(path+'\\\\predictions\\\\unlabeled_data_with_predictions_2.xlsx', index=False)"
      ]
    },
    {
      "cell_type": "code",
      "execution_count": null,
      "id": "c9537a9e-8b46-4754-bc06-b4c9bd4aa5b0",
      "metadata": {
        "id": "c9537a9e-8b46-4754-bc06-b4c9bd4aa5b0"
      },
      "outputs": [],
      "source": []
    },
    {
      "cell_type": "markdown",
      "id": "f4ae257d-3ce5-4cce-95f1-1919726f2736",
      "metadata": {
        "id": "f4ae257d-3ce5-4cce-95f1-1919726f2736"
      },
      "source": [
        "Label propagation-3 (using similarity only between comments)"
      ]
    },
    {
      "cell_type": "code",
      "execution_count": null,
      "id": "dd09f334-ba24-48ab-a70a-46c20cda63e6",
      "metadata": {
        "id": "dd09f334-ba24-48ab-a70a-46c20cda63e6"
      },
      "outputs": [],
      "source": [
        "labeled_sentiments = labeled_data['comment'].apply(get_sentiment_score)\n",
        "unlabeled_sentiments = unlabeled_data['comment'].apply(get_sentiment_score)"
      ]
    },
    {
      "cell_type": "code",
      "execution_count": null,
      "id": "4ab0c8be-414e-4a07-975a-2ffcb4700ace",
      "metadata": {
        "id": "4ab0c8be-414e-4a07-975a-2ffcb4700ace"
      },
      "outputs": [],
      "source": [
        "labeled_df = pd.DataFrame({'comment': labeled_data['comment'], 'sentiment': labeled_sentiments, 'relevance_rating': labeled_data['relevance_rating']})\n",
        "unlabeled_df = pd.DataFrame({'question': unlabeled_data['question'], 'comment': unlabeled_data['comment'], 'sentiment': unlabeled_sentiments})"
      ]
    },
    {
      "cell_type": "code",
      "execution_count": null,
      "id": "366f62f3-6734-48ff-8933-44f298ae40ae",
      "metadata": {
        "id": "366f62f3-6734-48ff-8933-44f298ae40ae"
      },
      "outputs": [],
      "source": [
        "# TF-IDF Vectorizer\n",
        "tfidf_vectorizer = TfidfVectorizer()\n",
        "tfidf_matrix_labeled = tfidf_vectorizer.fit_transform(labeled_df['comment'])\n",
        "tfidf_matrix_unlabeled = tfidf_vectorizer.transform(unlabeled_df['comment'])"
      ]
    },
    {
      "cell_type": "code",
      "execution_count": null,
      "id": "ceba7f44-87f6-40c4-b941-235f776155fa",
      "metadata": {
        "id": "ceba7f44-87f6-40c4-b941-235f776155fa"
      },
      "outputs": [],
      "source": [
        "# Word2Vec\n",
        "word2vec_model = Word2Vec(sentences=labeled_df['comment'], vector_size=100, window=5, min_count=1, workers=4)\n",
        "word_vectors = word2vec_model.wv"
      ]
    },
    {
      "cell_type": "code",
      "execution_count": null,
      "id": "38272035-2903-4e2d-974a-7aa16ad7db44",
      "metadata": {
        "id": "38272035-2903-4e2d-974a-7aa16ad7db44"
      },
      "outputs": [],
      "source": [
        "def get_word2vec_vector(comment, word_vectors):\n",
        "  comment_vector = np.zeros(word_vectors.vector_size)  # Initialize with zeros\n",
        "  word_count = 0\n",
        "  for word in comment.split():\n",
        "    if word in word_vectors:\n",
        "      comment_vector += word_vectors[word]\n",
        "      word_count += 1\n",
        "  if word_count > 0:  # Check if any words were found in vocabulary\n",
        "    comment_vector /= word_count  # Take the mean if there are valid words\n",
        "  return comment_vector"
      ]
    },
    {
      "cell_type": "code",
      "execution_count": null,
      "id": "dfaabae5-acd6-4daa-8bbc-91f6ff1b93b9",
      "metadata": {
        "id": "dfaabae5-acd6-4daa-8bbc-91f6ff1b93b9"
      },
      "outputs": [],
      "source": [
        "def get_word2vec_similarity(comment, labeled_comments, word_vectors):\n",
        "    comment_vector = get_word2vec_vector(comment, word_vectors)\n",
        "    labeled_comment_vectors = np.array([get_word2vec_vector(c, word_vectors) for c in labeled_comments])\n",
        "    similarities = cosine_similarity([comment_vector], labeled_comment_vectors)\n",
        "    return similarities[0]"
      ]
    },
    {
      "cell_type": "code",
      "execution_count": null,
      "id": "3c09d0c3-a9d6-4a17-9ff1-60fb73069f32",
      "metadata": {
        "id": "3c09d0c3-a9d6-4a17-9ff1-60fb73069f32"
      },
      "outputs": [],
      "source": [
        "labeled_comment_vectors = np.array([np.mean([word_vectors[word] for word in comment.split() if word in word_vectors], axis=0) for comment in labeled_data['comment']])\n",
        "unlabeled_comment_vectors = np.array([np.mean([word_vectors[word] for word in comment.split() if word in word_vectors], axis=0) for comment in unlabeled_data['comment']])"
      ]
    },
    {
      "cell_type": "code",
      "execution_count": null,
      "id": "f9c83e27-773c-4396-8599-bf62a5e2de8c",
      "metadata": {
        "id": "f9c83e27-773c-4396-8599-bf62a5e2de8c"
      },
      "outputs": [],
      "source": [
        "labeled_comment_vectors = np.nan_to_num(labeled_comment_vectors)\n",
        "unlabeled_comment_vectors = np.nan_to_num(unlabeled_comment_vectors)"
      ]
    },
    {
      "cell_type": "code",
      "execution_count": null,
      "id": "15e166f4-8dc0-46f8-b559-686a84f4322a",
      "metadata": {
        "id": "15e166f4-8dc0-46f8-b559-686a84f4322a"
      },
      "outputs": [],
      "source": [
        "# Sample a subset of labeled data with a similar size to unlabeled data\n",
        "labeled_subset = labeled_data.sample(len(unlabeled_data))\n",
        "labeled_comment_vectors_subset = np.array([get_word2vec_vector(comment, word_vectors) for comment in labeled_subset['comment']])"
      ]
    },
    {
      "cell_type": "code",
      "execution_count": null,
      "id": "841b210a-be8a-4811-9aee-11dfd29447a3",
      "metadata": {
        "id": "841b210a-be8a-4811-9aee-11dfd29447a3"
      },
      "outputs": [],
      "source": [
        "# Calculate Word2Vec similarities\n",
        "word2vec_similarities = cosine_similarity(unlabeled_comment_vectors, labeled_comment_vectors)"
      ]
    },
    {
      "cell_type": "code",
      "execution_count": null,
      "id": "b63de32c-143e-4d3e-95fc-deb3cc5a09bb",
      "metadata": {
        "id": "b63de32c-143e-4d3e-95fc-deb3cc5a09bb"
      },
      "outputs": [],
      "source": [
        "word2vec_similarities_subset = cosine_similarity(unlabeled_comment_vectors, labeled_comment_vectors_subset)"
      ]
    },
    {
      "cell_type": "code",
      "execution_count": null,
      "id": "2ae58bc6-f618-4c3b-a3d3-7c75006fe868",
      "metadata": {
        "id": "2ae58bc6-f618-4c3b-a3d3-7c75006fe868"
      },
      "outputs": [],
      "source": [
        "# Doc2Vec\n",
        "tagged_documents = [TaggedDocument(words=comment.split(), tags=[str(i)]) for i, comment in enumerate(labeled_data['comment'])]\n",
        "doc2vec_model = Doc2Vec(tagged_documents, vector_size=100, window=5, min_count=1, workers=4)\n",
        "\n",
        "labeled_comments = labeled_data['comment']\n",
        "doc2vec_similarities = np.array([doc2vec_model.infer_vector(comment.split()) for comment in labeled_comments])"
      ]
    },
    {
      "cell_type": "code",
      "execution_count": null,
      "id": "6f84f2fa-a145-4d94-9535-e92a54c25149",
      "metadata": {
        "id": "6f84f2fa-a145-4d94-9535-e92a54c25149"
      },
      "outputs": [],
      "source": [
        "# Label Propagation with TF-IDF\n",
        "label_prop_model_tfidf = LabelPropagation(kernel='knn', n_neighbors=5)\n",
        "label_prop_model_tfidf.fit(tfidf_matrix_labeled, labeled_df['relevance_rating'])\n",
        "predicted_labels_tfidf = label_prop_model_tfidf.predict(tfidf_matrix_unlabeled)"
      ]
    },
    {
      "cell_type": "code",
      "execution_count": null,
      "id": "fb3e8e06-c12b-443c-a637-3e72e3f9e05c",
      "metadata": {
        "id": "fb3e8e06-c12b-443c-a637-3e72e3f9e05c"
      },
      "outputs": [],
      "source": [
        "predictions_tfidf = pd.DataFrame({\n",
        "    'question': unlabeled_df['question'],\n",
        "    'comment': unlabeled_df['comment'],\n",
        "    'final_prediction_tfidf': predicted_labels_tfidf\n",
        "})\n",
        "predictions_tfidf.to_excel(path+\"\\predictions\\labels_tfidf.xlsx\", index=False)"
      ]
    },
    {
      "cell_type": "code",
      "execution_count": null,
      "id": "5d4ca3f2-92c3-42b6-b618-f7d7b0d3cf4d",
      "metadata": {
        "id": "5d4ca3f2-92c3-42b6-b618-f7d7b0d3cf4d"
      },
      "outputs": [],
      "source": [
        "#Label Propagation with word2vec\n",
        "label_prop_model_word2vec = LabelPropagation(kernel='knn', n_neighbors=5)\n",
        "label_prop_model_word2vec.fit(word2vec_similarities_subset, labeled_subset['relevance_rating'])\n",
        "predicted_labels_word2vec = label_prop_model_word2vec.predict(word2vec_similarities_subset)"
      ]
    },
    {
      "cell_type": "code",
      "execution_count": null,
      "id": "1bf8e8bd-4adb-439e-af04-214e3f721a30",
      "metadata": {
        "id": "1bf8e8bd-4adb-439e-af04-214e3f721a30"
      },
      "outputs": [],
      "source": [
        "predictions_word2vec = pd.DataFrame({\n",
        "    'question': unlabeled_df['question'],\n",
        "    'comment': unlabeled_df['comment'],\n",
        "    'final_prediction_word2vec': predicted_labels_word2vec\n",
        "})\n",
        "predictions_word2vec.to_excel(path+\"\\predictions\\labels_word2vec.xlsx\", index=False)"
      ]
    },
    {
      "cell_type": "code",
      "execution_count": null,
      "id": "1f0ac77f-e00f-4e17-8bbc-0ec2327f04b9",
      "metadata": {
        "id": "1f0ac77f-e00f-4e17-8bbc-0ec2327f04b9"
      },
      "outputs": [],
      "source": [
        "# Label Propagation with doc2vec similarities\n",
        "label_prop_model_doc2vec = LabelPropagation(kernel='knn', n_neighbors=5)\n",
        "label_prop_model_doc2vec.fit(doc2vec_similarities, labeled_data['relevance_rating'])\n",
        "\n",
        "# Predict relevance scores for unlabeled data using doc2vec similarities\n",
        "unlabeled_doc2vec_similarities = np.array([doc2vec_model.infer_vector(comment.split()) for comment in unlabeled_data['comment']])\n",
        "predicted_labels_doc2vec = label_prop_model_doc2vec.predict(unlabeled_doc2vec_similarities)"
      ]
    },
    {
      "cell_type": "code",
      "execution_count": null,
      "id": "2fd6e1a5-2972-4864-905b-753e289db54d",
      "metadata": {
        "id": "2fd6e1a5-2972-4864-905b-753e289db54d"
      },
      "outputs": [],
      "source": [
        "predictions_doc2vec = pd.DataFrame({\n",
        "    'question': unlabeled_df['question'],\n",
        "    'comment': unlabeled_df['comment'],\n",
        "    'final_prediction_doc2vec': predicted_labels_doc2vec\n",
        "})\n",
        "predictions_doc2vec.to_excel(path+\"\\predictions\\labels_doc2vec.xlsx\", index=False)"
      ]
    },
    {
      "cell_type": "code",
      "execution_count": null,
      "id": "1a4b7943-c66b-419f-819e-31ee97b2cfc6",
      "metadata": {
        "id": "1a4b7943-c66b-419f-819e-31ee97b2cfc6"
      },
      "outputs": [],
      "source": [
        "# Convert predictions to integers\n",
        "predicted_labels_tfidf_int = predicted_labels_tfidf.astype(int)\n",
        "predicted_labels_word2vec_int = predicted_labels_word2vec.astype(int)\n",
        "predicted_labels_doc2vec_int = predicted_labels_doc2vec.astype(int)\n",
        "\n",
        "# Combine Predictions\n",
        "combined_predictions = np.vstack([predicted_labels_tfidf_int, predicted_labels_word2vec_int, predicted_labels_doc2vec_int])\n",
        "final_predictions = np.apply_along_axis(lambda x: np.bincount(x).argmax(), axis=0, arr=combined_predictions)"
      ]
    },
    {
      "cell_type": "code",
      "execution_count": null,
      "id": "d479a6fb-de62-42e7-8cb0-2deedefb26d9",
      "metadata": {
        "id": "d479a6fb-de62-42e7-8cb0-2deedefb26d9"
      },
      "outputs": [],
      "source": [
        "unlabeled_with_predictions = pd.DataFrame({\n",
        "    'question': unlabeled_df['question'],\n",
        "    'comment': unlabeled_df['comment'],\n",
        "    'final_prediction': final_predictions\n",
        "})\n",
        "unlabeled_with_predictions.to_excel(path+\"\\\\predictions\\\\combined_labels.xlsx\", index=False)"
      ]
    },
    {
      "cell_type": "code",
      "execution_count": null,
      "id": "c6acbd9f-673f-48a5-8cec-5f0591adb4bb",
      "metadata": {
        "id": "c6acbd9f-673f-48a5-8cec-5f0591adb4bb"
      },
      "outputs": [],
      "source": [
        "# Combine Predictions-word2vec,doc2vec\n",
        "combined_predictions_vec = np.vstack([predicted_labels_doc2vec_int, predicted_labels_word2vec_int])\n",
        "final_predictions_vec = np.apply_along_axis(lambda x: np.bincount(x).argmax(), axis=0, arr=combined_predictions)"
      ]
    },
    {
      "cell_type": "code",
      "execution_count": null,
      "id": "db4846a2-11c6-450c-8231-929eea582464",
      "metadata": {
        "id": "db4846a2-11c6-450c-8231-929eea582464"
      },
      "outputs": [],
      "source": [
        "preds_vec = pd.DataFrame({\n",
        "    'question': unlabeled_df['question'],\n",
        "    'comment': unlabeled_df['comment'],\n",
        "    'final_prediction_vec': final_predictions_vec\n",
        "})\n",
        "preds_vec.to_excel(path+\"\\predictions\\labels_vec.xlsx\", index=False)"
      ]
    },
    {
      "cell_type": "code",
      "execution_count": null,
      "id": "237aa78f-a57a-4d4e-b432-08a910b0d50d",
      "metadata": {
        "id": "237aa78f-a57a-4d4e-b432-08a910b0d50d"
      },
      "outputs": [],
      "source": [
        "model_weights = {\n",
        "  'tfidf_model': 0.1,\n",
        "  'word2vec_model': 0.3,\n",
        "  'doc2vec_model': 0.6,\n",
        "}\n",
        "# Combine predictions with weights\n",
        "combined_predictions = np.vstack([predicted_labels_tfidf_int, predicted_labels_word2vec_int, predicted_labels_doc2vec_int])\n",
        "weighted_predictions = np.average(combined_predictions, axis=0, weights=list(model_weights.values()))\n",
        "final_predictions_weighted = np.round(weighted_predictions).astype(int)  # Round and convert to integer class labels"
      ]
    },
    {
      "cell_type": "code",
      "execution_count": null,
      "id": "46492908-9471-463a-a53d-5674bb08b12e",
      "metadata": {
        "id": "46492908-9471-463a-a53d-5674bb08b12e"
      },
      "outputs": [],
      "source": [
        "unlabeled_with_predictions_weighted = pd.DataFrame({\n",
        "    'question': unlabeled_df['question'],\n",
        "    'comment': unlabeled_df['comment'],\n",
        "    'final_prediction': final_predictions\n",
        "})\n",
        "unlabeled_with_predictions_weighted.to_excel(path+\"\\\\predictions\\\\combined_labels_weighted.xlsx\", index=False)"
      ]
    },
    {
      "cell_type": "code",
      "execution_count": null,
      "id": "1ff7ae00-38ee-44d3-9553-43ce60874ada",
      "metadata": {
        "id": "1ff7ae00-38ee-44d3-9553-43ce60874ada"
      },
      "outputs": [],
      "source": [
        "#label prediction with voting\n",
        "def voting(predictions):\n",
        "    final_predictions, _ = mode(predictions, axis=0)\n",
        "    return final_predictions.flatten()\n",
        "\n",
        "final_predictions_voting = voting(combined_predictions)"
      ]
    },
    {
      "cell_type": "code",
      "execution_count": null,
      "id": "e2092f33-0502-4f00-b673-2563f50000b9",
      "metadata": {
        "id": "e2092f33-0502-4f00-b673-2563f50000b9"
      },
      "outputs": [],
      "source": [
        "unlabeled_with_predictions_voting = pd.DataFrame({\n",
        "    'question': unlabeled_df['question'],\n",
        "    'comment': unlabeled_df['comment'],\n",
        "    'final_prediction': final_predictions_voting\n",
        "})\n",
        "unlabeled_with_predictions_voting.to_excel(path+\"\\predictions\\labels_voting.xlsx\", index=False)\n"
      ]
    },
    {
      "cell_type": "code",
      "execution_count": null,
      "id": "29baee05-2c33-4c4e-a3ff-acdc224b00da",
      "metadata": {
        "id": "29baee05-2c33-4c4e-a3ff-acdc224b00da"
      },
      "outputs": [],
      "source": [
        "#label predictions-averaging\n",
        "def averaging(predictions):\n",
        "    # Take average of predictions along axis 0\n",
        "    final_predictions = np.mean(predictions, axis=0)\n",
        "    return final_predictions\n",
        "\n",
        "final_predictions_averaging = averaging(combined_predictions)"
      ]
    },
    {
      "cell_type": "code",
      "execution_count": null,
      "id": "4745fd65-82e1-4b4e-a229-4c786c4c596e",
      "metadata": {
        "id": "4745fd65-82e1-4b4e-a229-4c786c4c596e"
      },
      "outputs": [],
      "source": [
        "unlabeled_with_predictions_averaging = pd.DataFrame({\n",
        "    'question': unlabeled_df['question'],\n",
        "    'comment': unlabeled_df['comment'],\n",
        "    'final_prediction': final_predictions_averaging\n",
        "})\n",
        "unlabeled_with_predictions_averaging.to_excel(path+\"\\predictions\\labels_averaging.xlsx\", index=False)"
      ]
    },
    {
      "cell_type": "code",
      "execution_count": null,
      "id": "cddf0261-5318-4474-b161-04cbb5c39da6",
      "metadata": {
        "id": "cddf0261-5318-4474-b161-04cbb5c39da6"
      },
      "outputs": [],
      "source": []
    }
  ],
  "metadata": {
    "kernelspec": {
      "display_name": "Python 3 (ipykernel)",
      "language": "python",
      "name": "python3"
    },
    "language_info": {
      "codemirror_mode": {
        "name": "ipython",
        "version": 3
      },
      "file_extension": ".py",
      "mimetype": "text/x-python",
      "name": "python",
      "nbconvert_exporter": "python",
      "pygments_lexer": "ipython3",
      "version": "3.11.5"
    },
    "colab": {
      "provenance": []
    }
  },
  "nbformat": 4,
  "nbformat_minor": 5
}